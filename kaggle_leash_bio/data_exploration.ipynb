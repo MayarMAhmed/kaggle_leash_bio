{
 "cells": [
  {
   "cell_type": "markdown",
   "metadata": {},
   "source": [
    "# 01 Example\n",
    "\n",
    "Here is a starter Jupyter notebook to get started.\n"
   ]
  },
  {
   "cell_type": "code",
   "execution_count": 1,
   "metadata": {},
   "outputs": [
    {
     "name": "stderr",
     "output_type": "stream",
     "text": [
      "Failed to detect the name of this notebook, you can set it manually with the WANDB_NOTEBOOK_NAME environment variable to enable code saving.\n",
      "\u001b[34m\u001b[1mwandb\u001b[0m: Currently logged in as: \u001b[33mmayarahmed\u001b[0m. Use \u001b[1m`wandb login --relogin`\u001b[0m to force relogin\n"
     ]
    },
    {
     "data": {
      "text/plain": [
       "True"
      ]
     },
     "execution_count": 1,
     "metadata": {},
     "output_type": "execute_result"
    }
   ],
   "source": [
    "#neccessary imports\n",
    "import pandas as pd\n",
    "import pyarrow.dataset as ds\n",
    "from loguru import logger\n",
    "import wandb\n",
    "import torch.nn as nn\n",
    "import torch.nn.functional as F\n",
    "wandb.login()"
   ]
  },
  {
   "cell_type": "code",
   "execution_count": 10,
   "metadata": {},
   "outputs": [
    {
     "data": {
      "text/plain": [
       "pyarrow.Table\n",
       "id: int64\n",
       "buildingblock1_smiles: string\n",
       "buildingblock2_smiles: string\n",
       "buildingblock3_smiles: string\n",
       "molecule_smiles: string\n",
       "protein_name: string\n",
       "binds: int64\n",
       "----\n",
       "id: [[0,1,2,3,4]]\n",
       "buildingblock1_smiles: [[\"C#CC[C@@H](CC(=O)O)NC(=O)OCC1c2ccccc2-c2ccccc21\",\"C#CC[C@@H](CC(=O)O)NC(=O)OCC1c2ccccc2-c2ccccc21\",\"C#CC[C@@H](CC(=O)O)NC(=O)OCC1c2ccccc2-c2ccccc21\",\"C#CC[C@@H](CC(=O)O)NC(=O)OCC1c2ccccc2-c2ccccc21\",\"C#CC[C@@H](CC(=O)O)NC(=O)OCC1c2ccccc2-c2ccccc21\"]]\n",
       "buildingblock2_smiles: [[\"C#CCOc1ccc(CN)cc1.Cl\",\"C#CCOc1ccc(CN)cc1.Cl\",\"C#CCOc1ccc(CN)cc1.Cl\",\"C#CCOc1ccc(CN)cc1.Cl\",\"C#CCOc1ccc(CN)cc1.Cl\"]]\n",
       "buildingblock3_smiles: [[\"Br.Br.NCC1CCCN1c1cccnn1\",\"Br.Br.NCC1CCCN1c1cccnn1\",\"Br.Br.NCC1CCCN1c1cccnn1\",\"Br.NCc1cccc(Br)n1\",\"Br.NCc1cccc(Br)n1\"]]\n",
       "molecule_smiles: [[\"C#CCOc1ccc(CNc2nc(NCC3CCCN3c3cccnn3)nc(N[C@@H](CC#C)CC(=O)N[Dy])n2)cc1\",\"C#CCOc1ccc(CNc2nc(NCC3CCCN3c3cccnn3)nc(N[C@@H](CC#C)CC(=O)N[Dy])n2)cc1\",\"C#CCOc1ccc(CNc2nc(NCC3CCCN3c3cccnn3)nc(N[C@@H](CC#C)CC(=O)N[Dy])n2)cc1\",\"C#CCOc1ccc(CNc2nc(NCc3cccc(Br)n3)nc(N[C@@H](CC#C)CC(=O)N[Dy])n2)cc1\",\"C#CCOc1ccc(CNc2nc(NCc3cccc(Br)n3)nc(N[C@@H](CC#C)CC(=O)N[Dy])n2)cc1\"]]\n",
       "protein_name: [[\"BRD4\",\"HSA\",\"sEH\",\"BRD4\",\"HSA\"]]\n",
       "binds: [[0,0,0,0,0]]"
      ]
     },
     "execution_count": 10,
     "metadata": {},
     "output_type": "execute_result"
    }
   ],
   "source": [
    "\n",
    "path_train_data = \"../../../data/train.parquet\"\n",
    "data_train = ds.dataset(source=path_train_data, format=\"parquet\")\n",
    "\n",
    "data_train.head(num_rows=5)\n"
   ]
  },
  {
   "cell_type": "code",
   "execution_count": 11,
   "metadata": {},
   "outputs": [
    {
     "name": "stderr",
     "output_type": "stream",
     "text": [
      "\u001b[32m2024-06-24 22:46:39.006\u001b[0m | \u001b[1mINFO    \u001b[0m | \u001b[36m__main__\u001b[0m:\u001b[36m<module>\u001b[0m:\u001b[36m6\u001b[0m - \u001b[1mNumber of compounds targeting BRD4 protein 98415610\u001b[0m\n",
      "\u001b[32m2024-06-24 22:46:39.115\u001b[0m | \u001b[1mINFO    \u001b[0m | \u001b[36m__main__\u001b[0m:\u001b[36m<module>\u001b[0m:\u001b[36m9\u001b[0m - \u001b[1mNumber of compounds targeting BRD4 protein and binds is 1 456964\u001b[0m\n"
     ]
    }
   ],
   "source": [
    "#filter using scanner to get the rows where the protein_name is BRD4\n",
    "data_brd4 = data_train.scanner(filter=ds.field(\"protein_name\") == \"BRD4\")\n",
    "\n",
    "data_brd4=data_brd4.to_table().to_pandas()\n",
    "#find the number of rows in the dataset\n",
    "logger.info(f\"Number of compounds targeting BRD4 protein {len(data_brd4)}\")\n",
    "#find the rows where the binds is 1\n",
    "data_brd4_binds = data_brd4[data_brd4[\"binds\"]==1]\n",
    "logger.info(f\"Number of compounds targeting BRD4 protein and binds is 1 {len(data_brd4_binds)}\")\n"
   ]
  },
  {
   "cell_type": "code",
   "execution_count": 12,
   "metadata": {},
   "outputs": [
    {
     "name": "stderr",
     "output_type": "stream",
     "text": [
      "\u001b[32m2024-06-24 22:47:29.235\u001b[0m | \u001b[1mINFO    \u001b[0m | \u001b[36m__main__\u001b[0m:\u001b[36m<module>\u001b[0m:\u001b[36m7\u001b[0m - \u001b[1mNumber of compounds targeting HSA protein 98415610\u001b[0m\n",
      "\u001b[32m2024-06-24 22:47:29.470\u001b[0m | \u001b[1mINFO    \u001b[0m | \u001b[36m__main__\u001b[0m:\u001b[36m<module>\u001b[0m:\u001b[36m10\u001b[0m - \u001b[1mNumber of compounds targeting HSA protein and binds is 1 408410\u001b[0m\n"
     ]
    }
   ],
   "source": [
    "#filter using scanner to get the rows where the protein_name is protein_name: HSA\n",
    "\n",
    "data_hsa = data_train.scanner(filter=ds.field(\"protein_name\") == \"HSA\")\n",
    "\n",
    "data_hsa=data_hsa.to_table().to_pandas()\n",
    "#find the number of rows in the dataset\n",
    "logger.info(f\"Number of compounds targeting HSA protein {len(data_hsa)}\")\n",
    "#find the rows where the binds is 1\n",
    "data_hsa_binds = data_hsa[data_hsa[\"binds\"]==1]\n",
    "logger.info(f\"Number of compounds targeting HSA protein and binds is 1 {len(data_hsa_binds)}\")"
   ]
  },
  {
   "cell_type": "code",
   "execution_count": 13,
   "metadata": {},
   "outputs": [
    {
     "name": "stderr",
     "output_type": "stream",
     "text": [
      "\u001b[32m2024-06-24 22:48:19.724\u001b[0m | \u001b[1mINFO    \u001b[0m | \u001b[36m__main__\u001b[0m:\u001b[36m<module>\u001b[0m:\u001b[36m5\u001b[0m - \u001b[1mNumber of compounds targeting sEH protein 98415610\u001b[0m\n",
      "\u001b[32m2024-06-24 22:48:19.842\u001b[0m | \u001b[1mINFO    \u001b[0m | \u001b[36m__main__\u001b[0m:\u001b[36m<module>\u001b[0m:\u001b[36m8\u001b[0m - \u001b[1mNumber of compounds targeting sEH protein and binds is 1 724532\u001b[0m\n"
     ]
    }
   ],
   "source": [
    "data_seh = data_train.scanner(filter=ds.field(\"protein_name\") == \"sEH\")\n",
    "\n",
    "data_seh=data_seh.to_table().to_pandas()\n",
    "#find the number of rows in the dataset\n",
    "logger.info(f\"Number of compounds targeting sEH protein {len(data_seh)}\")\n",
    "#find the rows where the binds is 1\n",
    "data_seh_binds = data_seh[data_seh[\"binds\"]==1]\n",
    "logger.info(f\"Number of compounds targeting sEH protein and binds is 1 {len(data_seh_binds)}\")"
   ]
  },
  {
   "cell_type": "code",
   "execution_count": 14,
   "metadata": {},
   "outputs": [
    {
     "name": "stderr",
     "output_type": "stream",
     "text": [
      "\u001b[32m2024-06-24 22:48:27.530\u001b[0m | \u001b[1mINFO    \u001b[0m | \u001b[36m__main__\u001b[0m:\u001b[36m<module>\u001b[0m:\u001b[36m3\u001b[0m - \u001b[1mNumber of compounds targeting BRD4 protein and binds is 0 724532\u001b[0m\n",
      "\u001b[32m2024-06-24 22:48:34.662\u001b[0m | \u001b[1mINFO    \u001b[0m | \u001b[36m__main__\u001b[0m:\u001b[36m<module>\u001b[0m:\u001b[36m5\u001b[0m - \u001b[1mNumber of compounds targeting HSA protein and binds is 0 724532\u001b[0m\n",
      "\u001b[32m2024-06-24 22:48:41.997\u001b[0m | \u001b[1mINFO    \u001b[0m | \u001b[36m__main__\u001b[0m:\u001b[36m<module>\u001b[0m:\u001b[36m7\u001b[0m - \u001b[1mNumber of compounds targeting sEH protein and binds is 0 724532\u001b[0m\n"
     ]
    }
   ],
   "source": [
    "#get from each protein a no bind subset that is equal to the number of bind subset\n",
    "data_brd4_no_binds = data_brd4[data_brd4[\"binds\"]==0].sample(n=len(data_seh_binds))\n",
    "logger.info(f\"Number of compounds targeting BRD4 protein and binds is 0 {len(data_brd4_no_binds)}\")\n",
    "data_hsa_no_binds = data_hsa[data_hsa[\"binds\"]==0].sample(n=len(data_seh_binds))\n",
    "logger.info(f\"Number of compounds targeting HSA protein and binds is 0 {len(data_hsa_no_binds)}\")\n",
    "data_seh_no_binds = data_seh[data_seh[\"binds\"]==0].sample(n=len(data_seh_binds))\n",
    "logger.info(f\"Number of compounds targeting sEH protein and binds is 0 {len(data_seh_no_binds)}\")"
   ]
  },
  {
   "cell_type": "code",
   "execution_count": 15,
   "metadata": {},
   "outputs": [],
   "source": [
    "# combine the dataframes into one and save it as a parquet file\n",
    "data_combined = pd.concat([data_brd4_binds, data_hsa_binds, data_seh_binds, data_brd4_no_binds, data_hsa_no_binds, data_seh_no_binds])\n",
    "data_combined.to_parquet(\"../../../data/train_combined.parquet\")"
   ]
  }
 ],
 "metadata": {
  "kernelspec": {
   "display_name": "biosc1540-2024s-dev",
   "language": "python",
   "name": "python3"
  },
  "language_info": {
   "codemirror_mode": {
    "name": "ipython",
    "version": 3
   },
   "file_extension": ".py",
   "mimetype": "text/x-python",
   "name": "python",
   "nbconvert_exporter": "python",
   "pygments_lexer": "ipython3",
   "version": "3.11.9"
  }
 },
 "nbformat": 4,
 "nbformat_minor": 2
}
